{
 "metadata": {
  "language_info": {
   "codemirror_mode": {
    "name": "ipython",
    "version": 3
   },
   "file_extension": ".py",
   "mimetype": "text/x-python",
   "name": "python",
   "nbconvert_exporter": "python",
   "pygments_lexer": "ipython3",
   "version": "3.8.5"
  },
  "orig_nbformat": 4,
  "kernelspec": {
   "name": "python3",
   "display_name": "Python 3.8.5 64-bit ('venv': venv)"
  },
  "interpreter": {
   "hash": "1acb1e118a75fea30ea7b583ce3945b85f28fbdc1bbf73916f214b7322deb0fd"
  }
 },
 "nbformat": 4,
 "nbformat_minor": 2,
 "cells": [
  {
   "cell_type": "code",
   "execution_count": 5,
   "metadata": {},
   "outputs": [],
   "source": [
    "import requests\n",
    "import json"
   ]
  },
  {
   "cell_type": "code",
   "execution_count": 3,
   "metadata": {},
   "outputs": [],
   "source": [
    "with open('api_key.txt') as f:\n",
    "    api_key = f.read().rstrip()"
   ]
  },
  {
   "cell_type": "code",
   "execution_count": null,
   "metadata": {},
   "outputs": [],
   "source": []
  },
  {
   "cell_type": "code",
   "execution_count": 2,
   "metadata": {},
   "outputs": [],
   "source": [
    "\n",
    "url = \"https://discover.search.hereapi.com/v1/discover\"\n",
    "payload = {\n",
    "    \"in\": \"circle:21.02984,105.859306;r=5000\",\n",
    "    \"q\": \"hotel\",\n",
    "    \"apiKey\": api_key,\n",
    "}\n",
    "ses = requests.Session()\n",
    "r = ses.get(url, params=payload, timeout=5)"
   ]
  },
  {
   "cell_type": "code",
   "execution_count": 4,
   "metadata": {},
   "outputs": [],
   "source": [
    "data = r.json()"
   ]
  },
  {
   "cell_type": "code",
   "execution_count": 12,
   "metadata": {},
   "outputs": [
    {
     "output_type": "stream",
     "name": "stdout",
     "text": [
      "{'items': [{'title': 'Reddoorz Near Tan Son Nhat Airport', 'id': 'here:pds:place:704w7er8-35d86c129d8678176466d019371df262', 'ontologyId': 'here:cm:ontology:hotel', 'resultType': 'place', 'address': {'label': 'Reddoorz Near Tan Son Nhat Airport, Đường Bạch Đằng 63, Quận Hoàn Kiếm, Việt Nam', 'countryCode': 'VNM', 'countryName': 'Việt Nam', 'county': 'Hà Nội', 'city': 'Quận Hoàn Kiếm', 'district': 'Phường Chương Dương Độ', 'street': 'Đường Bạch Đằng', 'houseNumber': '63'}, 'position': {'lat': 21.03109, 'lng': 105.8591}, 'access': [{'lat': 21.03108, 'lng': 105.85908}], 'distance': 141, 'categories': [{'id': '500-5000-0053', 'name': 'Khách sạn', 'primary': True}], 'references': [{'supplier': {'id': 'tripadvisor'}, 'id': '20914052'}]}, {'title': 'Phòng Trọ', 'id': 'here:pds:place:704w7er8-6db9bf50c5ec48708fa3949beb2b69ba', 'ontologyId': 'here:cm:ontology:hotel', 'resultType': 'place', 'address': {'label': 'Phòng Trọ, Đường Bạch Đằng 172, Quận Hoàn Kiếm, Việt Nam', 'countryCode': 'VNM', 'countryName': 'Việt Nam', 'county': 'Hà Nội', 'city': 'Quận Hoàn Kiếm', 'district': 'Phường Chương Dương Độ', 'street': 'Đường Bạch Đằng', 'houseNumber': '172'}, 'position': {'lat': 21.02826, 'lng': 105.86089}, 'access': [{'lat': 21.02826, 'lng': 105.86091}], 'distance': 240, 'categories': [{'id': '500-5000-0000', 'name': 'Khách sạn hoặc nhà trọ', 'primary': True}], 'references': [{'supplier': {'id': 'core'}, 'id': '1222323443'}]}, {'title': 'Santa Maria', 'id': 'here:pds:place:704aabd1-1e42de4b3ff904674cddfe253ee07b4a', 'ontologyId': 'here:cm:ontology:hotel', 'resultType': 'place', 'address': {'label': 'Santa Maria, Phố Hàng Vôi, Quận Hoàn Kiếm, Việt Nam', 'countryCode': 'VNM', 'countryName': 'Việt Nam', 'county': 'Hà Nội', 'city': 'Quận Hoàn Kiếm', 'district': 'Phường Lý Thái Tổ', 'street': 'Phố Hàng Vôi'}, 'position': {'lat': 21.0298, 'lng': 105.85699}, 'access': [{'lat': 21.0298, 'lng': 105.85697}], 'distance': 241, 'categories': [{'id': '500-5000-0053', 'name': 'Khách sạn', 'primary': True}], 'references': [{'supplier': {'id': 'tripadvisor'}, 'id': '2335513'}], 'contacts': [{'phone': [{'value': '+84439262579'}, {'value': '439262579'}]}]}, {'title': 'Khách Sạn Thăng Long Opera', 'id': 'here:pds:place:704w7er8-6d5920c5aaf74b2ba2c158d7815ade99', 'ontologyId': 'here:cm:ontology:hotel', 'resultType': 'place', 'address': {'label': 'Khách Sạn Thăng Long Opera, Phố Tông Đản, Quận Hoàn Kiếm, Việt Nam', 'countryCode': 'VNM', 'countryName': 'Việt Nam', 'county': 'Hà Nội', 'city': 'Quận Hoàn Kiếm', 'district': 'Phường Lý Thái Tổ', 'street': 'Phố Tông Đản'}, 'position': {'lat': 21.02836, 'lng': 105.85727}, 'access': [{'lat': 21.02819, 'lng': 105.85724}], 'distance': 268, 'categories': [{'id': '500-5000-0000', 'name': 'Khách sạn hoặc nhà trọ', 'primary': True}, {'id': '100-1000-0000', 'name': 'Nhà hàng'}, {'id': '500-5000-0053', 'name': 'Khách sạn'}, {'id': '500-5100-0000', 'name': 'Nhà nghỉ'}, {'id': '700-7200-0328', 'name': 'Dịch vụ B2B'}], 'references': [{'supplier': {'id': 'core'}, 'id': '1070239404'}, {'supplier': {'id': 'tripadvisor'}, 'id': '456961'}], 'contacts': [{'phone': [{'value': '+842438244775'}], 'fax': [{'value': '024 3824 4784', 'categories': [{'id': '500-5000-0000'}]}], 'www': [{'value': 'http://opera.thanglonghanoihotels.com', 'categories': [{'id': '500-5000-0053'}]}, {'value': 'http://www.thanglongopera.com', 'categories': [{'id': '500-5000-0000'}]}, {'value': 'http://www.thanglongopera.vn', 'categories': [{'id': '500-5000-0000'}]}, {'value': 'http://www.thanglongoperahotel.com', 'categories': [{'id': '500-5000-0053'}, {'id': '500-5100-0000'}, {'id': '700-7200-0328'}]}], 'email': [{'value': 'info@thanglongoperahotel.com', 'categories': [{'id': '500-5000-0000'}]}, {'value': 'thanglongopera@vnn.vn', 'categories': [{'id': '500-5000-0000'}]}]}]}, {'title': 'Hanoi Balcony Homestay', 'id': 'here:pds:place:704w7er8-6e74868e627840c08804dd813280eb9d', 'ontologyId': 'here:cm:ontology:hotel', 'resultType': 'place', 'address': {'label': 'Hanoi Balcony Homestay, Phố Hàng Vôi 19B, Quận Hoàn Kiếm, Việt Nam', 'countryCode': 'VNM', 'countryName': 'Việt Nam', 'county': 'Hà Nội', 'city': 'Quận Hoàn Kiếm', 'district': 'Phường Lý Thái Tổ', 'street': 'Phố Hàng Vôi', 'houseNumber': '19B'}, 'position': {'lat': 21.03002, 'lng': 105.85664}, 'access': [{'lat': 21.03, 'lng': 105.8566}], 'distance': 278, 'categories': [{'id': '500-5100-0057', 'name': 'Nhà khách', 'primary': True}, {'id': '500-5000-0000', 'name': 'Khách sạn hoặc nhà trọ'}, {'id': '500-5100-0000', 'name': 'Nhà nghỉ'}, {'id': '700-7200-0324', 'name': 'Dịch vụ cho thuê căn hộ'}], 'references': [{'supplier': {'id': 'tripadvisor'}, 'id': '15000740'}], 'contacts': [{'phone': [{'value': '+84988565870'}], 'www': [{'value': 'http://www.facebook.com/hnbalcony', 'categories': [{'id': '500-5100-0057'}]}, {'value': 'https://www.airbnb.com/rooms/20196038?guests=1&adults=1&source=handoff-ios&s=41&ref_device_id=076ac1fb9796bb2512d4261a6fa071c0bf534c95&user_id=143899383&_branch_match_id=421290844613058770', 'categories': [{'id': '500-5100-0000'}, {'id': '700-7200-0324'}]}]}]}, {'title': 'Tre House - Hostel', 'id': 'here:pds:place:704w7er8-5d290294afa144e7b8ddb62115ebb6c2', 'ontologyId': 'here:cm:ontology:hotel', 'resultType': 'place', 'address': {'label': 'Tre House - Hostel, Đường Hồng Hà 781, Quận Hoàn Kiếm, Việt Nam', 'countryCode': 'VNM', 'countryName': 'Việt Nam', 'county': 'Hà Nội', 'city': 'Quận Hoàn Kiếm', 'district': 'Phường Chương Dương Độ', 'street': 'Đường Hồng Hà', 'houseNumber': '781'}, 'position': {'lat': 21.02733, 'lng': 105.85898}, 'access': [{'lat': 21.02731, 'lng': 105.85894}], 'distance': 281, 'categories': [{'id': '500-5100-0055', 'name': 'Ký túc xá', 'primary': True}, {'id': '500-5000-0053', 'name': 'Khách sạn'}, {'id': '500-5100-0000', 'name': 'Nhà nghỉ'}], 'references': [{'supplier': {'id': 'tripadvisor'}, 'id': '15220199'}], 'contacts': [{'phone': [{'value': '+84902301998'}], 'www': [{'value': 'http://trehouse.com.vn', 'categories': [{'id': '500-5000-0053'}, {'id': '500-5100-0000'}]}]}]}, {'title': 'Thang Long 2 Hotel', 'id': 'here:pds:place:704aabd1-7a11eec77a520e04b27ecff973912664', 'ontologyId': 'here:cm:ontology:hotel', 'resultType': 'place', 'address': {'label': 'Thang Long 2 Hotel, Phố Tông Đản, Quận Hoàn Kiếm, Việt Nam', 'countryCode': 'VNM', 'countryName': 'Việt Nam', 'county': 'Hà Nội', 'city': 'Quận Hoàn Kiếm', 'district': 'Phường Lý Thái Tổ', 'street': 'Phố Tông Đản'}, 'position': {'lat': 21.02816, 'lng': 105.85726}, 'access': [{'lat': 21.02819, 'lng': 105.85724}], 'distance': 283, 'categories': [{'id': '500-5000-0053', 'name': 'Khách sạn', 'primary': True}], 'references': [{'supplier': {'id': 'tripadvisor'}, 'id': '10410785'}]}, {'title': 'Hong Ha Hotel', 'id': 'here:pds:place:704t4x7z-207d9b19397406ad8d561bb7ecf081d7', 'ontologyId': 'here:cm:ontology:hotel', 'resultType': 'place', 'address': {'label': 'Hong Ha Hotel, Đường Trần Quang Khải 204, Quận Hoàn Kiếm, Việt Nam', 'countryCode': 'VNM', 'countryName': 'Việt Nam', 'county': 'Hà Nội', 'city': 'Quận Hoàn Kiếm', 'district': 'Phường Tràng Tiền', 'street': 'Đường Trần Quang Khải', 'houseNumber': '204'}, 'position': {'lat': 21.02744, 'lng': 105.85835}, 'access': [{'lat': 21.02745, 'lng': 105.8584}], 'distance': 285, 'categories': [{'id': '500-5000-0000', 'name': 'Khách sạn hoặc nhà trọ', 'primary': True}, {'id': '100-1000-0001', 'name': 'Quán ăn bình dân'}, {'id': '500-5000-0053', 'name': 'Khách sạn'}, {'id': '500-5100-0000', 'name': 'Nhà nghỉ'}], 'contacts': [{'phone': [{'value': '+842439387786'}], 'fax': [{'value': '024 3938 7785', 'categories': [{'id': '500-5000-0000'}]}], 'www': [{'value': 'http://honghahotel.vn', 'categories': [{'id': '100-1000-0001'}, {'id': '500-5000-0000'}, {'id': '500-5100-0000'}]}], 'email': [{'value': 'info@honghahotel.vn', 'categories': [{'id': '500-5000-0000'}]}]}]}, {'title': 'Khách Sạn Hồng Hà', 'id': 'here:pds:place:704jx7ps-f675a509e9270e3a4db935b181ad605f', 'ontologyId': 'here:cm:ontology:hotel', 'resultType': 'place', 'address': {'label': 'Khách Sạn Hồng Hà, Đường Trần Quang Khải 204, Quận Hoàn Kiếm, Việt Nam', 'countryCode': 'VNM', 'countryName': 'Việt Nam', 'county': 'Hà Nội', 'city': 'Quận Hoàn Kiếm', 'district': 'Phường Tràng Tiền', 'street': 'Đường Trần Quang Khải', 'houseNumber': '204'}, 'position': {'lat': 21.02744, 'lng': 105.85835}, 'access': [{'lat': 21.02745, 'lng': 105.8584}], 'distance': 285, 'categories': [{'id': '500-5000-0000', 'name': 'Khách sạn hoặc nhà trọ', 'primary': True}, {'id': '100-1000-0000', 'name': 'Nhà hàng'}, {'id': '400-4100-0041', 'name': 'Dịch vụ vận chuyển'}, {'id': '500-5000-0053', 'name': 'Khách sạn'}, {'id': '500-5100-0000', 'name': 'Nhà nghỉ'}], 'references': [{'supplier': {'id': 'core'}, 'id': '1048347295'}, {'supplier': {'id': 'tripadvisor'}, 'id': '1477465'}], 'contacts': [{'phone': [{'value': '+842438247339'}], 'www': [{'value': 'http://www.honghahotel.vn', 'categories': [{'id': '100-1000-0000'}, {'id': '400-4100-0041'}, {'id': '500-5000-0000'}, {'id': '500-5000-0053'}]}]}]}, {'title': 'Eclipse Legend Hotel', 'id': 'here:pds:place:704aabd1-8e58941e17e300b898e6ce505916e89a', 'ontologyId': 'here:cm:ontology:hotel', 'resultType': 'place', 'address': {'label': 'Eclipse Legend Hotel, Phố Hàng Vôi 36, Quận Hoàn Kiếm, Việt Nam', 'countryCode': 'VNM', 'countryName': 'Việt Nam', 'county': 'Hà Nội', 'city': 'Quận Hoàn Kiếm', 'district': 'Phường Lý Thái Tổ', 'street': 'Phố Hàng Vôi', 'houseNumber': '36'}, 'position': {'lat': 21.0301, 'lng': 105.8565}, 'access': [{'lat': 21.03011, 'lng': 105.85653}], 'distance': 293, 'categories': [{'id': '500-5000-0000', 'name': 'Khách sạn hoặc nhà trọ', 'primary': True}, {'id': '500-5000-0053', 'name': 'Khách sạn'}, {'id': '500-5100-0000', 'name': 'Nhà nghỉ'}, {'id': '500-5100-0058', 'name': 'Nhà nghỉ có phục vụ bữa sáng'}], 'references': [{'supplier': {'id': 'tripadvisor'}, 'id': '6876978'}], 'contacts': [{'phone': [{'value': '+842439262333', 'categories': [{'id': '500-5000-0000'}]}, {'value': '4392623333'}], 'fax': [{'value': '024 3926 3555', 'categories': [{'id': '500-5000-0000'}]}], 'www': [{'value': 'http://www.eclipselegendhotel.com', 'categories': [{'id': '500-5100-0000'}, {'id': '500-5100-0058'}]}, {'value': 'https://www.hanoieclipsehotel.com', 'categories': [{'id': '500-5000-0000'}]}], 'email': [{'value': 'booking@hanoieclipsehotel.com', 'categories': [{'id': '500-5000-0000'}]}]}]}, {'title': 'Gold Star Hotel Hanoi', 'id': 'here:pds:place:704xjxn4-821c428cf1dc0bf370bb64017cf8e8d3', 'ontologyId': 'here:cm:ontology:hotel', 'resultType': 'place', 'address': {'label': 'Gold Star Hotel Hanoi, Phố Hàng Vôi 9, Quận Hoàn Kiếm, Việt Nam', 'countryCode': 'VNM', 'countryName': 'Việt Nam', 'county': 'Hà Nội', 'city': 'Quận Hoàn Kiếm', 'district': 'Phường Lý Thái Tổ', 'street': 'Phố Hàng Vôi', 'houseNumber': '9'}, 'position': {'lat': 21.03044, 'lng': 105.85639}, 'access': [{'lat': 21.03042, 'lng': 105.85636}], 'distance': 310, 'categories': [{'id': '500-5000-0000', 'name': 'Khách sạn hoặc nhà trọ', 'primary': True}], 'contacts': [{'phone': [{'value': '439352341'}]}]}, {'title': 'Alisa Spa', 'id': 'here:pds:place:704w7er8-5ac891c54c1f458595cbefe82406caee', 'ontologyId': 'here:cm:ontology:hotel', 'resultType': 'place', 'address': {'label': 'Alisa Spa, Phố Hàng Vôi 9, Quận Hoàn Kiếm, Việt Nam', 'countryCode': 'VNM', 'countryName': 'Việt Nam', 'county': 'Hà Nội', 'city': 'Quận Hoàn Kiếm', 'district': 'Phường Lý Thái Tổ', 'street': 'Phố Hàng Vôi', 'houseNumber': '9'}, 'position': {'lat': 21.03044, 'lng': 105.85639}, 'access': [{'lat': 21.03042, 'lng': 105.85636}], 'distance': 310, 'categories': [{'id': '500-5000-0053', 'name': 'Khách sạn', 'primary': True}, {'id': '500-5000-0000', 'name': 'Khách sạn hoặc nhà trọ'}, {'id': '700-7400-0133', 'name': 'Đại lý du lịch & Vé'}, {'id': '700-7400-0292', 'name': 'Trung tâm chăm sóc sức khỏe & Dịch vụ'}, {'id': '700-7460-0115', 'name': 'Thông tin du khách'}], 'references': [{'supplier': {'id': 'tripadvisor'}, 'id': '14961093'}], 'contacts': [{'phone': [{'value': '+842439351666', 'categories': [{'id': '500-5000-0053'}, {'id': '700-7400-0133'}, {'id': '700-7400-0292'}, {'id': '700-7460-0115'}]}, {'value': '+84926603389'}], 'www': [{'value': 'http://www.alisahotelhanoi.com', 'categories': [{'id': '500-5000-0053'}, {'id': '700-7400-0133'}, {'id': '700-7400-0292'}, {'id': '700-7460-0115'}]}]}]}, {'title': 'Khách Sạn Thái Sơn', 'id': 'here:pds:place:704httek-01b44b10dafc06ac25174136369631c0', 'ontologyId': 'here:cm:ontology:hotel', 'resultType': 'place', 'address': {'label': 'Khách Sạn Thái Sơn, Phố Hàng Vôi 7, Quận Hoàn Kiếm, Việt Nam', 'countryCode': 'VNM', 'countryName': 'Việt Nam', 'county': 'Hà Nội', 'city': 'Quận Hoàn Kiếm', 'district': 'Phường Lý Thái Tổ', 'street': 'Phố Hàng Vôi', 'houseNumber': '7'}, 'position': {'lat': 21.03046, 'lng': 105.85639}, 'access': [{'lat': 21.03048, 'lng': 105.85632}], 'distance': 311, 'categories': [{'id': '500-5000-0000', 'name': 'Khách sạn hoặc nhà trọ', 'primary': True}, {'id': '500-5000-0053', 'name': 'Khách sạn'}, {'id': '500-5100-0000', 'name': 'Nhà nghỉ'}], 'references': [{'supplier': {'id': 'core'}, 'id': '1070241290'}, {'supplier': {'id': 'tripadvisor'}, 'id': '5505928'}], 'contacts': [{'phone': [{'value': '+842439351666'}, {'value': '+84988099093'}], 'www': [{'value': 'http://www.thaisonhotelgroup.com'}, {'value': 'http://www.thaisonpalacehotel.com', 'categories': [{'id': '500-5000-0000'}, {'id': '500-5000-0053'}]}], 'email': [{'value': 'booking1@thaisonhotel.com', 'categories': [{'id': '500-5000-0000'}]}]}]}, {'title': 'Old Quarter Hotel 1961', 'id': 'here:pds:place:704w7er8-93ec2e7a5e7c4c7d928c4a2ffc7137c7', 'ontologyId': 'here:cm:ontology:hotel', 'resultType': 'place', 'address': {'label': 'Old Quarter Hotel 1961, Phố Hàng Vôi, Quận Hoàn Kiếm, Việt Nam', 'countryCode': 'VNM', 'countryName': 'Việt Nam', 'county': 'Hà Nội', 'city': 'Quận Hoàn Kiếm', 'district': 'Phường Lý Thái Tổ', 'street': 'Phố Hàng Vôi'}, 'position': {'lat': 21.03032, 'lng': 105.85634}, 'access': [{'lat': 21.03029, 'lng': 105.85643}], 'distance': 313, 'categories': [{'id': '500-5000-0053', 'name': 'Khách sạn', 'primary': True}], 'references': [{'supplier': {'id': 'tripadvisor'}, 'id': '19139447'}], 'contacts': [{'phone': [{'value': '+84766618338'}], 'www': [{'value': 'https://www.facebook.com/pages/category/Hotel/Old-Quarter-Hotel-1961-22-H%C3%A0ng-V%C3%B4i-H%C3%A0-N%E1%BB%99i-111644163529843'}]}]}, {'title': 'Khách Sạn Thủy Lợi', 'id': 'here:pds:place:704xjxn4-abe05000b12c0f7f62c11cee5460a2ee', 'ontologyId': 'here:cm:ontology:hotel', 'resultType': 'place', 'address': {'label': 'Khách Sạn Thủy Lợi, Đường Trần Quang Khải 166, Quận Hoàn Kiếm, Việt Nam', 'countryCode': 'VNM', 'countryName': 'Việt Nam', 'county': 'Hà Nội', 'city': 'Quận Hoàn Kiếm', 'district': 'Phường Lý Thái Tổ', 'street': 'Đường Trần Quang Khải', 'houseNumber': '166'}, 'position': {'lat': 21.03113, 'lng': 105.8566}, 'access': [{'lat': 21.03114, 'lng': 105.85664}], 'distance': 316, 'categories': [{'id': '500-5000-0000', 'name': 'Khách sạn hoặc nhà trọ', 'primary': True}, {'id': '500-5100-0000', 'name': 'Nhà nghỉ'}], 'contacts': [{'phone': [{'value': '438266614'}]}]}, {'title': 'Khách Sạn Pomihoa Hà Nội', 'id': 'here:pds:place:704w7er8-05b954dd3a704e84aea2aa9bb663f45d', 'ontologyId': 'here:cm:ontology:hotel', 'resultType': 'place', 'address': {'label': 'Khách Sạn Pomihoa Hà Nội, Đường Trần Quang Khải 166, Quận Hoàn Kiếm, Việt Nam', 'countryCode': 'VNM', 'countryName': 'Việt Nam', 'county': 'Hà Nội', 'city': 'Quận Hoàn Kiếm', 'district': 'Phường Lý Thái Tổ', 'street': 'Đường Trần Quang Khải', 'houseNumber': '166'}, 'position': {'lat': 21.03113, 'lng': 105.8566}, 'access': [{'lat': 21.03114, 'lng': 105.85664}], 'distance': 316, 'categories': [{'id': '500-5000-0000', 'name': 'Khách sạn hoặc nhà trọ', 'primary': True}, {'id': '500-5000-0053', 'name': 'Khách sạn'}, {'id': '500-5100-0000', 'name': 'Nhà nghỉ'}], 'references': [{'supplier': {'id': 'tripadvisor'}, 'id': '12175406'}], 'contacts': [{'phone': [{'value': '+842433544555', 'categories': [{'id': '500-5000-0000'}]}, {'value': '433544555'}], 'www': [{'value': 'http://www.hanoipomihoahotel.com', 'categories': [{'id': '500-5000-0053'}, {'id': '500-5100-0000'}]}], 'email': [{'value': 'info@hanoipomihoahotel.com', 'categories': [{'id': '500-5000-0000'}]}]}]}, {'title': 'Phuong Dong Guesthouse', 'id': 'here:pds:place:704w7er2-b7ece4ac5d484185a478b97331415944', 'ontologyId': 'here:cm:ontology:hotel', 'resultType': 'place', 'address': {'label': 'Phuong Dong Guesthouse, Phố Tông Đản, Quận Hoàn Kiếm, Việt Nam', 'countryCode': 'VNM', 'countryName': 'Việt Nam', 'county': 'Hà Nội', 'city': 'Quận Hoàn Kiếm', 'district': 'Phường Tràng Tiền', 'street': 'Phố Tông Đản'}, 'position': {'lat': 21.02747, 'lng': 105.85749}, 'access': [{'lat': 21.02742, 'lng': 105.85747}], 'distance': 324, 'categories': [{'id': '500-5000-0053', 'name': 'Khách sạn', 'primary': True}, {'id': '500-5000-0000', 'name': 'Khách sạn hoặc nhà trọ'}], 'references': [{'supplier': {'id': 'tripadvisor'}, 'id': '12263312'}]}, {'title': 'Awa Downtown Hostel', 'id': 'here:pds:place:704w7er8-fbb69f844d2044a891ac8530e52c48b6', 'ontologyId': 'here:cm:ontology:hotel', 'resultType': 'place', 'address': {'label': 'Awa Downtown Hostel, Phố Hàng Vôi 22, Quận Hoàn Kiếm, Việt Nam', 'countryCode': 'VNM', 'countryName': 'Việt Nam', 'county': 'Hà Nội', 'city': 'Quận Hoàn Kiếm', 'district': 'Phường Lý Thái Tổ', 'street': 'Phố Hàng Vôi', 'houseNumber': '22'}, 'position': {'lat': 21.03064, 'lng': 105.85618}, 'access': [{'lat': 21.03066, 'lng': 105.85622}], 'distance': 337, 'categories': [{'id': '500-5000-0000', 'name': 'Khách sạn hoặc nhà trọ', 'primary': True}, {'id': '500-5100-0055', 'name': 'Ký túc xá'}], 'references': [{'supplier': {'id': 'tripadvisor'}, 'id': '15225563'}], 'contacts': [{'phone': [{'value': '+84979331596'}], 'www': [{'value': 'http://awa.webhotel.vn', 'categories': [{'id': '500-5000-0000'}]}]}]}, {'title': 'Hoa Hostel', 'id': 'here:pds:place:704w7er8-64cbaec1ed954d419862c6bba64dfab2', 'ontologyId': 'here:cm:ontology:hotel', 'resultType': 'place', 'address': {'label': 'Hoa Hostel, Phố Hàng Vôi 22, Quận Hoàn Kiếm, Việt Nam', 'countryCode': 'VNM', 'countryName': 'Việt Nam', 'county': 'Hà Nội', 'city': 'Quận Hoàn Kiếm', 'district': 'Phường Lý Thái Tổ', 'street': 'Phố Hàng Vôi', 'houseNumber': '22'}, 'position': {'lat': 21.03064, 'lng': 105.85618}, 'access': [{'lat': 21.03066, 'lng': 105.85622}], 'distance': 337, 'categories': [{'id': '500-5100-0055', 'name': 'Ký túc xá', 'primary': True}, {'id': '500-5000-0000', 'name': 'Khách sạn hoặc nhà trọ'}], 'references': [{'supplier': {'id': 'tripadvisor'}, 'id': '13489018'}], 'contacts': [{'phone': [{'value': '1648900959'}], 'www': [{'value': 'http://www.facebook.com/eloise.gardener.12', 'categories': [{'id': '500-5100-0055'}]}]}]}, {'title': 'Lluvia Hotel Hanoi', 'id': 'here:pds:place:704aabd1-2aaf23e4157a04af383493356eca09ec', 'ontologyId': 'here:cm:ontology:hotel', 'resultType': 'place', 'address': {'label': 'Lluvia Hotel Hanoi, Phố Hàng Vôi 22, Quận Hoàn Kiếm, Việt Nam', 'countryCode': 'VNM', 'countryName': 'Việt Nam', 'county': 'Hà Nội', 'city': 'Quận Hoàn Kiếm', 'district': 'Phường Lý Thái Tổ', 'street': 'Phố Hàng Vôi', 'houseNumber': '22'}, 'position': {'lat': 21.03064, 'lng': 105.85618}, 'access': [{'lat': 21.03066, 'lng': 105.85622}], 'distance': 337, 'categories': [{'id': '500-5000-0053', 'name': 'Khách sạn', 'primary': True}, {'id': '500-5000-0000', 'name': 'Khách sạn hoặc nhà trọ'}], 'references': [{'supplier': {'id': 'tripadvisor'}, 'id': '2079946'}], 'contacts': [{'phone': [{'value': '439561642'}]}]}]}\n"
     ]
    }
   ],
   "source": [
    "print(data)"
   ]
  },
  {
   "cell_type": "code",
   "execution_count": 13,
   "metadata": {},
   "outputs": [
    {
     "output_type": "stream",
     "name": "stdout",
     "text": [
      "[{'title': 'Reddoorz Near Tan Son Nhat Airport', 'id': 'here:pds:place:704w7er8-35d86c129d8678176466d019371df262', 'ontologyId': 'here:cm:ontology:hotel', 'resultType': 'place', 'address': {'label': 'Reddoorz Near Tan Son Nhat Airport, Đường Bạch Đằng 63, Quận Hoàn Kiếm, Việt Nam', 'countryCode': 'VNM', 'countryName': 'Việt Nam', 'county': 'Hà Nội', 'city': 'Quận Hoàn Kiếm', 'district': 'Phường Chương Dương Độ', 'street': 'Đường Bạch Đằng', 'houseNumber': '63'}, 'position': {'lat': 21.03109, 'lng': 105.8591}, 'access': [{'lat': 21.03108, 'lng': 105.85908}], 'distance': 141, 'categories': [{'id': '500-5000-0053', 'name': 'Khách sạn', 'primary': True}], 'references': [{'supplier': {'id': 'tripadvisor'}, 'id': '20914052'}]}, {'title': 'Phòng Trọ', 'id': 'here:pds:place:704w7er8-6db9bf50c5ec48708fa3949beb2b69ba', 'ontologyId': 'here:cm:ontology:hotel', 'resultType': 'place', 'address': {'label': 'Phòng Trọ, Đường Bạch Đằng 172, Quận Hoàn Kiếm, Việt Nam', 'countryCode': 'VNM', 'countryName': 'Việt Nam', 'county': 'Hà Nội', 'city': 'Quận Hoàn Kiếm', 'district': 'Phường Chương Dương Độ', 'street': 'Đường Bạch Đằng', 'houseNumber': '172'}, 'position': {'lat': 21.02826, 'lng': 105.86089}, 'access': [{'lat': 21.02826, 'lng': 105.86091}], 'distance': 240, 'categories': [{'id': '500-5000-0000', 'name': 'Khách sạn hoặc nhà trọ', 'primary': True}], 'references': [{'supplier': {'id': 'core'}, 'id': '1222323443'}]}, {'title': 'Santa Maria', 'id': 'here:pds:place:704aabd1-1e42de4b3ff904674cddfe253ee07b4a', 'ontologyId': 'here:cm:ontology:hotel', 'resultType': 'place', 'address': {'label': 'Santa Maria, Phố Hàng Vôi, Quận Hoàn Kiếm, Việt Nam', 'countryCode': 'VNM', 'countryName': 'Việt Nam', 'county': 'Hà Nội', 'city': 'Quận Hoàn Kiếm', 'district': 'Phường Lý Thái Tổ', 'street': 'Phố Hàng Vôi'}, 'position': {'lat': 21.0298, 'lng': 105.85699}, 'access': [{'lat': 21.0298, 'lng': 105.85697}], 'distance': 241, 'categories': [{'id': '500-5000-0053', 'name': 'Khách sạn', 'primary': True}], 'references': [{'supplier': {'id': 'tripadvisor'}, 'id': '2335513'}], 'contacts': [{'phone': [{'value': '+84439262579'}, {'value': '439262579'}]}]}, {'title': 'Khách Sạn Thăng Long Opera', 'id': 'here:pds:place:704w7er8-6d5920c5aaf74b2ba2c158d7815ade99', 'ontologyId': 'here:cm:ontology:hotel', 'resultType': 'place', 'address': {'label': 'Khách Sạn Thăng Long Opera, Phố Tông Đản, Quận Hoàn Kiếm, Việt Nam', 'countryCode': 'VNM', 'countryName': 'Việt Nam', 'county': 'Hà Nội', 'city': 'Quận Hoàn Kiếm', 'district': 'Phường Lý Thái Tổ', 'street': 'Phố Tông Đản'}, 'position': {'lat': 21.02836, 'lng': 105.85727}, 'access': [{'lat': 21.02819, 'lng': 105.85724}], 'distance': 268, 'categories': [{'id': '500-5000-0000', 'name': 'Khách sạn hoặc nhà trọ', 'primary': True}, {'id': '100-1000-0000', 'name': 'Nhà hàng'}, {'id': '500-5000-0053', 'name': 'Khách sạn'}, {'id': '500-5100-0000', 'name': 'Nhà nghỉ'}, {'id': '700-7200-0328', 'name': 'Dịch vụ B2B'}], 'references': [{'supplier': {'id': 'core'}, 'id': '1070239404'}, {'supplier': {'id': 'tripadvisor'}, 'id': '456961'}], 'contacts': [{'phone': [{'value': '+842438244775'}], 'fax': [{'value': '024 3824 4784', 'categories': [{'id': '500-5000-0000'}]}], 'www': [{'value': 'http://opera.thanglonghanoihotels.com', 'categories': [{'id': '500-5000-0053'}]}, {'value': 'http://www.thanglongopera.com', 'categories': [{'id': '500-5000-0000'}]}, {'value': 'http://www.thanglongopera.vn', 'categories': [{'id': '500-5000-0000'}]}, {'value': 'http://www.thanglongoperahotel.com', 'categories': [{'id': '500-5000-0053'}, {'id': '500-5100-0000'}, {'id': '700-7200-0328'}]}], 'email': [{'value': 'info@thanglongoperahotel.com', 'categories': [{'id': '500-5000-0000'}]}, {'value': 'thanglongopera@vnn.vn', 'categories': [{'id': '500-5000-0000'}]}]}]}, {'title': 'Hanoi Balcony Homestay', 'id': 'here:pds:place:704w7er8-6e74868e627840c08804dd813280eb9d', 'ontologyId': 'here:cm:ontology:hotel', 'resultType': 'place', 'address': {'label': 'Hanoi Balcony Homestay, Phố Hàng Vôi 19B, Quận Hoàn Kiếm, Việt Nam', 'countryCode': 'VNM', 'countryName': 'Việt Nam', 'county': 'Hà Nội', 'city': 'Quận Hoàn Kiếm', 'district': 'Phường Lý Thái Tổ', 'street': 'Phố Hàng Vôi', 'houseNumber': '19B'}, 'position': {'lat': 21.03002, 'lng': 105.85664}, 'access': [{'lat': 21.03, 'lng': 105.8566}], 'distance': 278, 'categories': [{'id': '500-5100-0057', 'name': 'Nhà khách', 'primary': True}, {'id': '500-5000-0000', 'name': 'Khách sạn hoặc nhà trọ'}, {'id': '500-5100-0000', 'name': 'Nhà nghỉ'}, {'id': '700-7200-0324', 'name': 'Dịch vụ cho thuê căn hộ'}], 'references': [{'supplier': {'id': 'tripadvisor'}, 'id': '15000740'}], 'contacts': [{'phone': [{'value': '+84988565870'}], 'www': [{'value': 'http://www.facebook.com/hnbalcony', 'categories': [{'id': '500-5100-0057'}]}, {'value': 'https://www.airbnb.com/rooms/20196038?guests=1&adults=1&source=handoff-ios&s=41&ref_device_id=076ac1fb9796bb2512d4261a6fa071c0bf534c95&user_id=143899383&_branch_match_id=421290844613058770', 'categories': [{'id': '500-5100-0000'}, {'id': '700-7200-0324'}]}]}]}, {'title': 'Tre House - Hostel', 'id': 'here:pds:place:704w7er8-5d290294afa144e7b8ddb62115ebb6c2', 'ontologyId': 'here:cm:ontology:hotel', 'resultType': 'place', 'address': {'label': 'Tre House - Hostel, Đường Hồng Hà 781, Quận Hoàn Kiếm, Việt Nam', 'countryCode': 'VNM', 'countryName': 'Việt Nam', 'county': 'Hà Nội', 'city': 'Quận Hoàn Kiếm', 'district': 'Phường Chương Dương Độ', 'street': 'Đường Hồng Hà', 'houseNumber': '781'}, 'position': {'lat': 21.02733, 'lng': 105.85898}, 'access': [{'lat': 21.02731, 'lng': 105.85894}], 'distance': 281, 'categories': [{'id': '500-5100-0055', 'name': 'Ký túc xá', 'primary': True}, {'id': '500-5000-0053', 'name': 'Khách sạn'}, {'id': '500-5100-0000', 'name': 'Nhà nghỉ'}], 'references': [{'supplier': {'id': 'tripadvisor'}, 'id': '15220199'}], 'contacts': [{'phone': [{'value': '+84902301998'}], 'www': [{'value': 'http://trehouse.com.vn', 'categories': [{'id': '500-5000-0053'}, {'id': '500-5100-0000'}]}]}]}, {'title': 'Thang Long 2 Hotel', 'id': 'here:pds:place:704aabd1-7a11eec77a520e04b27ecff973912664', 'ontologyId': 'here:cm:ontology:hotel', 'resultType': 'place', 'address': {'label': 'Thang Long 2 Hotel, Phố Tông Đản, Quận Hoàn Kiếm, Việt Nam', 'countryCode': 'VNM', 'countryName': 'Việt Nam', 'county': 'Hà Nội', 'city': 'Quận Hoàn Kiếm', 'district': 'Phường Lý Thái Tổ', 'street': 'Phố Tông Đản'}, 'position': {'lat': 21.02816, 'lng': 105.85726}, 'access': [{'lat': 21.02819, 'lng': 105.85724}], 'distance': 283, 'categories': [{'id': '500-5000-0053', 'name': 'Khách sạn', 'primary': True}], 'references': [{'supplier': {'id': 'tripadvisor'}, 'id': '10410785'}]}, {'title': 'Hong Ha Hotel', 'id': 'here:pds:place:704t4x7z-207d9b19397406ad8d561bb7ecf081d7', 'ontologyId': 'here:cm:ontology:hotel', 'resultType': 'place', 'address': {'label': 'Hong Ha Hotel, Đường Trần Quang Khải 204, Quận Hoàn Kiếm, Việt Nam', 'countryCode': 'VNM', 'countryName': 'Việt Nam', 'county': 'Hà Nội', 'city': 'Quận Hoàn Kiếm', 'district': 'Phường Tràng Tiền', 'street': 'Đường Trần Quang Khải', 'houseNumber': '204'}, 'position': {'lat': 21.02744, 'lng': 105.85835}, 'access': [{'lat': 21.02745, 'lng': 105.8584}], 'distance': 285, 'categories': [{'id': '500-5000-0000', 'name': 'Khách sạn hoặc nhà trọ', 'primary': True}, {'id': '100-1000-0001', 'name': 'Quán ăn bình dân'}, {'id': '500-5000-0053', 'name': 'Khách sạn'}, {'id': '500-5100-0000', 'name': 'Nhà nghỉ'}], 'contacts': [{'phone': [{'value': '+842439387786'}], 'fax': [{'value': '024 3938 7785', 'categories': [{'id': '500-5000-0000'}]}], 'www': [{'value': 'http://honghahotel.vn', 'categories': [{'id': '100-1000-0001'}, {'id': '500-5000-0000'}, {'id': '500-5100-0000'}]}], 'email': [{'value': 'info@honghahotel.vn', 'categories': [{'id': '500-5000-0000'}]}]}]}, {'title': 'Khách Sạn Hồng Hà', 'id': 'here:pds:place:704jx7ps-f675a509e9270e3a4db935b181ad605f', 'ontologyId': 'here:cm:ontology:hotel', 'resultType': 'place', 'address': {'label': 'Khách Sạn Hồng Hà, Đường Trần Quang Khải 204, Quận Hoàn Kiếm, Việt Nam', 'countryCode': 'VNM', 'countryName': 'Việt Nam', 'county': 'Hà Nội', 'city': 'Quận Hoàn Kiếm', 'district': 'Phường Tràng Tiền', 'street': 'Đường Trần Quang Khải', 'houseNumber': '204'}, 'position': {'lat': 21.02744, 'lng': 105.85835}, 'access': [{'lat': 21.02745, 'lng': 105.8584}], 'distance': 285, 'categories': [{'id': '500-5000-0000', 'name': 'Khách sạn hoặc nhà trọ', 'primary': True}, {'id': '100-1000-0000', 'name': 'Nhà hàng'}, {'id': '400-4100-0041', 'name': 'Dịch vụ vận chuyển'}, {'id': '500-5000-0053', 'name': 'Khách sạn'}, {'id': '500-5100-0000', 'name': 'Nhà nghỉ'}], 'references': [{'supplier': {'id': 'core'}, 'id': '1048347295'}, {'supplier': {'id': 'tripadvisor'}, 'id': '1477465'}], 'contacts': [{'phone': [{'value': '+842438247339'}], 'www': [{'value': 'http://www.honghahotel.vn', 'categories': [{'id': '100-1000-0000'}, {'id': '400-4100-0041'}, {'id': '500-5000-0000'}, {'id': '500-5000-0053'}]}]}]}, {'title': 'Eclipse Legend Hotel', 'id': 'here:pds:place:704aabd1-8e58941e17e300b898e6ce505916e89a', 'ontologyId': 'here:cm:ontology:hotel', 'resultType': 'place', 'address': {'label': 'Eclipse Legend Hotel, Phố Hàng Vôi 36, Quận Hoàn Kiếm, Việt Nam', 'countryCode': 'VNM', 'countryName': 'Việt Nam', 'county': 'Hà Nội', 'city': 'Quận Hoàn Kiếm', 'district': 'Phường Lý Thái Tổ', 'street': 'Phố Hàng Vôi', 'houseNumber': '36'}, 'position': {'lat': 21.0301, 'lng': 105.8565}, 'access': [{'lat': 21.03011, 'lng': 105.85653}], 'distance': 293, 'categories': [{'id': '500-5000-0000', 'name': 'Khách sạn hoặc nhà trọ', 'primary': True}, {'id': '500-5000-0053', 'name': 'Khách sạn'}, {'id': '500-5100-0000', 'name': 'Nhà nghỉ'}, {'id': '500-5100-0058', 'name': 'Nhà nghỉ có phục vụ bữa sáng'}], 'references': [{'supplier': {'id': 'tripadvisor'}, 'id': '6876978'}], 'contacts': [{'phone': [{'value': '+842439262333', 'categories': [{'id': '500-5000-0000'}]}, {'value': '4392623333'}], 'fax': [{'value': '024 3926 3555', 'categories': [{'id': '500-5000-0000'}]}], 'www': [{'value': 'http://www.eclipselegendhotel.com', 'categories': [{'id': '500-5100-0000'}, {'id': '500-5100-0058'}]}, {'value': 'https://www.hanoieclipsehotel.com', 'categories': [{'id': '500-5000-0000'}]}], 'email': [{'value': 'booking@hanoieclipsehotel.com', 'categories': [{'id': '500-5000-0000'}]}]}]}, {'title': 'Gold Star Hotel Hanoi', 'id': 'here:pds:place:704xjxn4-821c428cf1dc0bf370bb64017cf8e8d3', 'ontologyId': 'here:cm:ontology:hotel', 'resultType': 'place', 'address': {'label': 'Gold Star Hotel Hanoi, Phố Hàng Vôi 9, Quận Hoàn Kiếm, Việt Nam', 'countryCode': 'VNM', 'countryName': 'Việt Nam', 'county': 'Hà Nội', 'city': 'Quận Hoàn Kiếm', 'district': 'Phường Lý Thái Tổ', 'street': 'Phố Hàng Vôi', 'houseNumber': '9'}, 'position': {'lat': 21.03044, 'lng': 105.85639}, 'access': [{'lat': 21.03042, 'lng': 105.85636}], 'distance': 310, 'categories': [{'id': '500-5000-0000', 'name': 'Khách sạn hoặc nhà trọ', 'primary': True}], 'contacts': [{'phone': [{'value': '439352341'}]}]}, {'title': 'Alisa Spa', 'id': 'here:pds:place:704w7er8-5ac891c54c1f458595cbefe82406caee', 'ontologyId': 'here:cm:ontology:hotel', 'resultType': 'place', 'address': {'label': 'Alisa Spa, Phố Hàng Vôi 9, Quận Hoàn Kiếm, Việt Nam', 'countryCode': 'VNM', 'countryName': 'Việt Nam', 'county': 'Hà Nội', 'city': 'Quận Hoàn Kiếm', 'district': 'Phường Lý Thái Tổ', 'street': 'Phố Hàng Vôi', 'houseNumber': '9'}, 'position': {'lat': 21.03044, 'lng': 105.85639}, 'access': [{'lat': 21.03042, 'lng': 105.85636}], 'distance': 310, 'categories': [{'id': '500-5000-0053', 'name': 'Khách sạn', 'primary': True}, {'id': '500-5000-0000', 'name': 'Khách sạn hoặc nhà trọ'}, {'id': '700-7400-0133', 'name': 'Đại lý du lịch & Vé'}, {'id': '700-7400-0292', 'name': 'Trung tâm chăm sóc sức khỏe & Dịch vụ'}, {'id': '700-7460-0115', 'name': 'Thông tin du khách'}], 'references': [{'supplier': {'id': 'tripadvisor'}, 'id': '14961093'}], 'contacts': [{'phone': [{'value': '+842439351666', 'categories': [{'id': '500-5000-0053'}, {'id': '700-7400-0133'}, {'id': '700-7400-0292'}, {'id': '700-7460-0115'}]}, {'value': '+84926603389'}], 'www': [{'value': 'http://www.alisahotelhanoi.com', 'categories': [{'id': '500-5000-0053'}, {'id': '700-7400-0133'}, {'id': '700-7400-0292'}, {'id': '700-7460-0115'}]}]}]}, {'title': 'Khách Sạn Thái Sơn', 'id': 'here:pds:place:704httek-01b44b10dafc06ac25174136369631c0', 'ontologyId': 'here:cm:ontology:hotel', 'resultType': 'place', 'address': {'label': 'Khách Sạn Thái Sơn, Phố Hàng Vôi 7, Quận Hoàn Kiếm, Việt Nam', 'countryCode': 'VNM', 'countryName': 'Việt Nam', 'county': 'Hà Nội', 'city': 'Quận Hoàn Kiếm', 'district': 'Phường Lý Thái Tổ', 'street': 'Phố Hàng Vôi', 'houseNumber': '7'}, 'position': {'lat': 21.03046, 'lng': 105.85639}, 'access': [{'lat': 21.03048, 'lng': 105.85632}], 'distance': 311, 'categories': [{'id': '500-5000-0000', 'name': 'Khách sạn hoặc nhà trọ', 'primary': True}, {'id': '500-5000-0053', 'name': 'Khách sạn'}, {'id': '500-5100-0000', 'name': 'Nhà nghỉ'}], 'references': [{'supplier': {'id': 'core'}, 'id': '1070241290'}, {'supplier': {'id': 'tripadvisor'}, 'id': '5505928'}], 'contacts': [{'phone': [{'value': '+842439351666'}, {'value': '+84988099093'}], 'www': [{'value': 'http://www.thaisonhotelgroup.com'}, {'value': 'http://www.thaisonpalacehotel.com', 'categories': [{'id': '500-5000-0000'}, {'id': '500-5000-0053'}]}], 'email': [{'value': 'booking1@thaisonhotel.com', 'categories': [{'id': '500-5000-0000'}]}]}]}, {'title': 'Old Quarter Hotel 1961', 'id': 'here:pds:place:704w7er8-93ec2e7a5e7c4c7d928c4a2ffc7137c7', 'ontologyId': 'here:cm:ontology:hotel', 'resultType': 'place', 'address': {'label': 'Old Quarter Hotel 1961, Phố Hàng Vôi, Quận Hoàn Kiếm, Việt Nam', 'countryCode': 'VNM', 'countryName': 'Việt Nam', 'county': 'Hà Nội', 'city': 'Quận Hoàn Kiếm', 'district': 'Phường Lý Thái Tổ', 'street': 'Phố Hàng Vôi'}, 'position': {'lat': 21.03032, 'lng': 105.85634}, 'access': [{'lat': 21.03029, 'lng': 105.85643}], 'distance': 313, 'categories': [{'id': '500-5000-0053', 'name': 'Khách sạn', 'primary': True}], 'references': [{'supplier': {'id': 'tripadvisor'}, 'id': '19139447'}], 'contacts': [{'phone': [{'value': '+84766618338'}], 'www': [{'value': 'https://www.facebook.com/pages/category/Hotel/Old-Quarter-Hotel-1961-22-H%C3%A0ng-V%C3%B4i-H%C3%A0-N%E1%BB%99i-111644163529843'}]}]}, {'title': 'Khách Sạn Thủy Lợi', 'id': 'here:pds:place:704xjxn4-abe05000b12c0f7f62c11cee5460a2ee', 'ontologyId': 'here:cm:ontology:hotel', 'resultType': 'place', 'address': {'label': 'Khách Sạn Thủy Lợi, Đường Trần Quang Khải 166, Quận Hoàn Kiếm, Việt Nam', 'countryCode': 'VNM', 'countryName': 'Việt Nam', 'county': 'Hà Nội', 'city': 'Quận Hoàn Kiếm', 'district': 'Phường Lý Thái Tổ', 'street': 'Đường Trần Quang Khải', 'houseNumber': '166'}, 'position': {'lat': 21.03113, 'lng': 105.8566}, 'access': [{'lat': 21.03114, 'lng': 105.85664}], 'distance': 316, 'categories': [{'id': '500-5000-0000', 'name': 'Khách sạn hoặc nhà trọ', 'primary': True}, {'id': '500-5100-0000', 'name': 'Nhà nghỉ'}], 'contacts': [{'phone': [{'value': '438266614'}]}]}, {'title': 'Khách Sạn Pomihoa Hà Nội', 'id': 'here:pds:place:704w7er8-05b954dd3a704e84aea2aa9bb663f45d', 'ontologyId': 'here:cm:ontology:hotel', 'resultType': 'place', 'address': {'label': 'Khách Sạn Pomihoa Hà Nội, Đường Trần Quang Khải 166, Quận Hoàn Kiếm, Việt Nam', 'countryCode': 'VNM', 'countryName': 'Việt Nam', 'county': 'Hà Nội', 'city': 'Quận Hoàn Kiếm', 'district': 'Phường Lý Thái Tổ', 'street': 'Đường Trần Quang Khải', 'houseNumber': '166'}, 'position': {'lat': 21.03113, 'lng': 105.8566}, 'access': [{'lat': 21.03114, 'lng': 105.85664}], 'distance': 316, 'categories': [{'id': '500-5000-0000', 'name': 'Khách sạn hoặc nhà trọ', 'primary': True}, {'id': '500-5000-0053', 'name': 'Khách sạn'}, {'id': '500-5100-0000', 'name': 'Nhà nghỉ'}], 'references': [{'supplier': {'id': 'tripadvisor'}, 'id': '12175406'}], 'contacts': [{'phone': [{'value': '+842433544555', 'categories': [{'id': '500-5000-0000'}]}, {'value': '433544555'}], 'www': [{'value': 'http://www.hanoipomihoahotel.com', 'categories': [{'id': '500-5000-0053'}, {'id': '500-5100-0000'}]}], 'email': [{'value': 'info@hanoipomihoahotel.com', 'categories': [{'id': '500-5000-0000'}]}]}]}, {'title': 'Phuong Dong Guesthouse', 'id': 'here:pds:place:704w7er2-b7ece4ac5d484185a478b97331415944', 'ontologyId': 'here:cm:ontology:hotel', 'resultType': 'place', 'address': {'label': 'Phuong Dong Guesthouse, Phố Tông Đản, Quận Hoàn Kiếm, Việt Nam', 'countryCode': 'VNM', 'countryName': 'Việt Nam', 'county': 'Hà Nội', 'city': 'Quận Hoàn Kiếm', 'district': 'Phường Tràng Tiền', 'street': 'Phố Tông Đản'}, 'position': {'lat': 21.02747, 'lng': 105.85749}, 'access': [{'lat': 21.02742, 'lng': 105.85747}], 'distance': 324, 'categories': [{'id': '500-5000-0053', 'name': 'Khách sạn', 'primary': True}, {'id': '500-5000-0000', 'name': 'Khách sạn hoặc nhà trọ'}], 'references': [{'supplier': {'id': 'tripadvisor'}, 'id': '12263312'}]}, {'title': 'Awa Downtown Hostel', 'id': 'here:pds:place:704w7er8-fbb69f844d2044a891ac8530e52c48b6', 'ontologyId': 'here:cm:ontology:hotel', 'resultType': 'place', 'address': {'label': 'Awa Downtown Hostel, Phố Hàng Vôi 22, Quận Hoàn Kiếm, Việt Nam', 'countryCode': 'VNM', 'countryName': 'Việt Nam', 'county': 'Hà Nội', 'city': 'Quận Hoàn Kiếm', 'district': 'Phường Lý Thái Tổ', 'street': 'Phố Hàng Vôi', 'houseNumber': '22'}, 'position': {'lat': 21.03064, 'lng': 105.85618}, 'access': [{'lat': 21.03066, 'lng': 105.85622}], 'distance': 337, 'categories': [{'id': '500-5000-0000', 'name': 'Khách sạn hoặc nhà trọ', 'primary': True}, {'id': '500-5100-0055', 'name': 'Ký túc xá'}], 'references': [{'supplier': {'id': 'tripadvisor'}, 'id': '15225563'}], 'contacts': [{'phone': [{'value': '+84979331596'}], 'www': [{'value': 'http://awa.webhotel.vn', 'categories': [{'id': '500-5000-0000'}]}]}]}, {'title': 'Hoa Hostel', 'id': 'here:pds:place:704w7er8-64cbaec1ed954d419862c6bba64dfab2', 'ontologyId': 'here:cm:ontology:hotel', 'resultType': 'place', 'address': {'label': 'Hoa Hostel, Phố Hàng Vôi 22, Quận Hoàn Kiếm, Việt Nam', 'countryCode': 'VNM', 'countryName': 'Việt Nam', 'county': 'Hà Nội', 'city': 'Quận Hoàn Kiếm', 'district': 'Phường Lý Thái Tổ', 'street': 'Phố Hàng Vôi', 'houseNumber': '22'}, 'position': {'lat': 21.03064, 'lng': 105.85618}, 'access': [{'lat': 21.03066, 'lng': 105.85622}], 'distance': 337, 'categories': [{'id': '500-5100-0055', 'name': 'Ký túc xá', 'primary': True}, {'id': '500-5000-0000', 'name': 'Khách sạn hoặc nhà trọ'}], 'references': [{'supplier': {'id': 'tripadvisor'}, 'id': '13489018'}], 'contacts': [{'phone': [{'value': '1648900959'}], 'www': [{'value': 'http://www.facebook.com/eloise.gardener.12', 'categories': [{'id': '500-5100-0055'}]}]}]}, {'title': 'Lluvia Hotel Hanoi', 'id': 'here:pds:place:704aabd1-2aaf23e4157a04af383493356eca09ec', 'ontologyId': 'here:cm:ontology:hotel', 'resultType': 'place', 'address': {'label': 'Lluvia Hotel Hanoi, Phố Hàng Vôi 22, Quận Hoàn Kiếm, Việt Nam', 'countryCode': 'VNM', 'countryName': 'Việt Nam', 'county': 'Hà Nội', 'city': 'Quận Hoàn Kiếm', 'district': 'Phường Lý Thái Tổ', 'street': 'Phố Hàng Vôi', 'houseNumber': '22'}, 'position': {'lat': 21.03064, 'lng': 105.85618}, 'access': [{'lat': 21.03066, 'lng': 105.85622}], 'distance': 337, 'categories': [{'id': '500-5000-0053', 'name': 'Khách sạn', 'primary': True}, {'id': '500-5000-0000', 'name': 'Khách sạn hoặc nhà trọ'}], 'references': [{'supplier': {'id': 'tripadvisor'}, 'id': '2079946'}], 'contacts': [{'phone': [{'value': '439561642'}]}]}]\n"
     ]
    }
   ],
   "source": [
    "print(data['items'])"
   ]
  },
  {
   "cell_type": "code",
   "execution_count": 14,
   "metadata": {},
   "outputs": [
    {
     "output_type": "execute_result",
     "data": {
      "text/plain": [
       "20"
      ]
     },
     "metadata": {},
     "execution_count": 14
    }
   ],
   "source": [
    "len(data['items'])"
   ]
  },
  {
   "cell_type": "code",
   "execution_count": 16,
   "metadata": {},
   "outputs": [],
   "source": [
    "i = data['items'][0]"
   ]
  },
  {
   "cell_type": "code",
   "execution_count": 18,
   "metadata": {},
   "outputs": [
    {
     "output_type": "execute_result",
     "data": {
      "text/plain": [
       "{'title': 'Reddoorz Near Tan Son Nhat Airport',\n",
       " 'id': 'here:pds:place:704w7er8-35d86c129d8678176466d019371df262',\n",
       " 'ontologyId': 'here:cm:ontology:hotel',\n",
       " 'resultType': 'place',\n",
       " 'address': {'label': 'Reddoorz Near Tan Son Nhat Airport, Đường Bạch Đằng 63, Quận Hoàn Kiếm, Việt Nam',\n",
       "  'countryCode': 'VNM',\n",
       "  'countryName': 'Việt Nam',\n",
       "  'county': 'Hà Nội',\n",
       "  'city': 'Quận Hoàn Kiếm',\n",
       "  'district': 'Phường Chương Dương Độ',\n",
       "  'street': 'Đường Bạch Đằng',\n",
       "  'houseNumber': '63'},\n",
       " 'position': {'lat': 21.03109, 'lng': 105.8591},\n",
       " 'access': [{'lat': 21.03108, 'lng': 105.85908}],\n",
       " 'distance': 141,\n",
       " 'categories': [{'id': '500-5000-0053', 'name': 'Khách sạn', 'primary': True}],\n",
       " 'references': [{'supplier': {'id': 'tripadvisor'}, 'id': '20914052'}]}"
      ]
     },
     "metadata": {},
     "execution_count": 18
    }
   ],
   "source": [
    "i"
   ]
  },
  {
   "cell_type": "code",
   "execution_count": 20,
   "metadata": {},
   "outputs": [],
   "source": [
    "features = []\n",
    "for hotel in data[\"items\"]:\n",
    "    address = hotel[\"address\"][\"label\"]\n",
    "    name = hotel[\"title\"]\n",
    "    distance = str(hotel[\"distance\"]) + \" meter\"\n",
    "    lng = hotel[\"position\"][\"lng\"]\n",
    "    lat = hotel[\"position\"][\"lat\"]\n",
    "    feature = {\n",
    "        \"type\": \"Feature\",\n",
    "        \"geometry\": {\n",
    "            \"type\": \"Point\",\n",
    "            \"coordinates\": [lng, lat],\n",
    "        },\n",
    "        \"properties\": {\"address\": address, \"name\": name, \"distance\": distance},\n",
    "    }\n",
    "    features.append(feature)"
   ]
  },
  {
   "cell_type": "code",
   "execution_count": 21,
   "metadata": {},
   "outputs": [],
   "source": [
    "# save\n",
    "with open(\"map.geojson\", \"wt\", encoding=\"utf8\") as f:\n",
    "    geojson_data = {\"type\": \"FeatureCollection\", \"features\": features}\n",
    "    json.dump(geojson_data, f, indent=4, ensure_ascii=False)"
   ]
  },
  {
   "cell_type": "code",
   "execution_count": null,
   "metadata": {},
   "outputs": [],
   "source": []
  }
 ]
}